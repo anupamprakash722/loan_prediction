{
 "cells": [
  {
   "cell_type": "code",
   "execution_count": 1,
   "metadata": {},
   "outputs": [],
   "source": [
    "import pandas as pd\n",
    "import pickle\n",
    "filename = 'anupam.sav'\n",
    "\n",
    " \n",
    "# load the model from disk\n",
    "\n",
    "model,X = pickle.load(open(filename, 'rb'))"
   ]
  },
  {
   "cell_type": "code",
   "execution_count": 2,
   "metadata": {},
   "outputs": [
    {
     "name": "stdout",
     "output_type": "stream",
     "text": [
      "What is your gender:Male\n",
      "Whether you are married :Yes\n",
      "dependents value:2\n",
      "enter your educationGrauaduate\n",
      "Whether self employed :yes\n",
      "enter applicant income120000\n",
      "enter coapplicant income:20000\n",
      "enter loan amount:30000\n",
      "enter loan amount term:240\n",
      "enter credit history:1\n",
      "enter property area:Urban\n",
      "['N']\n",
      "Sorry ! Your Loan is not approved\n"
     ]
    }
   ],
   "source": [
    "gender=input(\"What is your gender:\")\n",
    "married=input(\"Whether you are married :\")\n",
    "dependents=int(input(\"dependents value:\"))\n",
    "Education=input(\"enter your education\")\n",
    "SelfEmployed=input(\"Whether self employed :\")\n",
    "Applicantincome=int(input(\"enter applicant income\"))\n",
    "coapplicantincome=int(input(\"enter coapplicant income:\"))\n",
    "loanamount=int(input(\"enter loan amount:\"))\n",
    "loanamountterm=int(input(\"enter loan amount term:\"))\n",
    "credithistory=int(input(\"enter credit history:\"))\n",
    "propertyarea=input(\"enter property area:\")\n",
    "data = [[gender,married,dependents,Education,SelfEmployed,Applicantincome,coapplicantincome,loanamount,loanamountterm,credithistory,propertyarea]]\n",
    "# Create the pandas DataFrame \n",
    "newdf = pd.DataFrame(data, columns = ['Gender','Married','Dependents','Education','Self_Employed','ApplicantIncome','CoapplicantIncome','LoanAmount','Loan_Amount_Term','Credit_History','Property_Area'])\n",
    "\n",
    "\n",
    "newdf = pd.get_dummies(newdf)\n",
    "\n",
    "# Get missing columns in the training test\n",
    "missing_cols = set( X.columns ) - set( newdf.columns )\n",
    "\n",
    "# Add a missing column in test set with default value equal to 0\n",
    "for c in missing_cols:\n",
    "    newdf[c] = 0\n",
    "# Ensure the order of column in the test set is in the same order than in train set\n",
    "newdf = newdf[X.columns]\n",
    "\n",
    "yp=model.predict(newdf)\n",
    "print(yp)\n",
    "\n",
    "if (yp[0]=='Y'):\n",
    "    print(\"Your Loan is approved, Please contact at HDFC Bank Any Branch for further processing\")\n",
    "else:\n",
    "    print(\"Sorry ! Your Loan is not approved\")\n"
   ]
  }
 ],
 "metadata": {
  "kernelspec": {
   "display_name": "Python 3",
   "language": "python",
   "name": "python3"
  },
  "language_info": {
   "codemirror_mode": {
    "name": "ipython",
    "version": 3
   },
   "file_extension": ".py",
   "mimetype": "text/x-python",
   "name": "python",
   "nbconvert_exporter": "python",
   "pygments_lexer": "ipython3",
   "version": "3.7.6"
  }
 },
 "nbformat": 4,
 "nbformat_minor": 2
}
